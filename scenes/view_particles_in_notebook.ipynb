{
 "cells": [
  {
   "cell_type": "code",
   "execution_count": 1,
   "metadata": {},
   "outputs": [],
   "source": [
    "import k3d\n",
    "import numpy as np"
   ]
  },
  {
   "cell_type": "code",
   "execution_count": 2,
   "metadata": {},
   "outputs": [
    {
     "output_type": "display_data",
     "data": {
      "text/plain": "Output()",
      "application/vnd.jupyter.widget-view+json": {
       "version_major": 2,
       "version_minor": 0,
       "model_id": "b32e24084a764b3f960f19125f2df785"
      }
     },
     "metadata": {}
    }
   ],
   "source": [
    "positions = np.loadtxt('frames/particles-frame-0.nptxt').astype(np.float32)\n",
    "plot = k3d.plot()\n",
    "points = k3d.points(positions, point_size=0.4, shader='3dSpecular')\n",
    "plot += points\n",
    "plot.display()"
   ]
  },
  {
   "cell_type": "code",
   "execution_count": 4,
   "metadata": {},
   "outputs": [
    {
     "output_type": "display_data",
     "data": {
      "text/plain": "Output()",
      "application/vnd.jupyter.widget-view+json": {
       "version_major": 2,
       "version_minor": 0,
       "model_id": "7abf44e35b4c430aba7bf0c6d17fba96"
      }
     },
     "metadata": {}
    }
   ],
   "source": [
    "# View 50 frames at a time\n",
    "\n",
    "start = 0\n",
    "stop = 49\n",
    "\n",
    "if start > 0:\n",
    "    offset = start\n",
    "    start = 0\n",
    "    stop = stop - offset\n",
    "else:\n",
    "    offset = 0\n",
    "\n",
    "positions = {\n",
    "    str(t):np.loadtxt('frames/particles-frame-%d.nptxt' % (t+offset)).astype(np.float32) for t in range(start, stop, 1)\n",
    "}\n",
    "plot = k3d.plot(name='points', time=float(start))\n",
    "plt_points = k3d.points(positions=positions, point_size=0.4, shader='3dSpecular', color=0xD0D3D4, opacity=0.5)\n",
    "plot += plt_points\n",
    "plot.display()"
   ]
  },
  {
   "cell_type": "code",
   "execution_count": null,
   "metadata": {},
   "outputs": [],
   "source": []
  }
 ],
 "metadata": {
  "kernelspec": {
   "display_name": "Python 3.7.6 64-bit ('anaconda3': conda)",
   "language": "python",
   "name": "python37664bitanaconda3condab615bb15fcd4464bb2000e7d9e446dfd"
  },
  "language_info": {
   "codemirror_mode": {
    "name": "ipython",
    "version": 3
   },
   "file_extension": ".py",
   "mimetype": "text/x-python",
   "name": "python",
   "nbconvert_exporter": "python",
   "pygments_lexer": "ipython3",
   "version": "3.7.6-final"
  }
 },
 "nbformat": 4,
 "nbformat_minor": 4
}